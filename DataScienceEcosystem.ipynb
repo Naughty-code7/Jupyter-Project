{
 "cells": [
  {
   "cell_type": "markdown",
   "id": "027c5007-4f03-4a39-ba47-1c6a2dfcff2d",
   "metadata": {},
   "source": [
    "# Data Science Tools and Ecosystem"
   ]
  },
  {
   "cell_type": "markdown",
   "id": "331702dd-026b-4cd1-9e54-7cdfe9c1c2eb",
   "metadata": {},
   "source": [
    "In this notebook, Data Science Tools and Ecosystem are summarized."
   ]
  },
  {
   "cell_type": "markdown",
   "id": "23423b74-3037-4026-84f6-a5fdecb68638",
   "metadata": {},
   "source": [
    "**Objectives**:\n",
    "* List popular languages for Data Science\n",
    "* List Data Science Tools used\n",
    "* List libraries used in Data Science\n"
   ]
  },
  {
   "cell_type": "markdown",
   "id": "8860b358-005a-40df-8360-184a42d24896",
   "metadata": {},
   "source": [
    "Some of the popular languages that Data Scientists use are:\n",
    "1. Python\n",
    "2. R\n",
    "3. SQL languages"
   ]
  },
  {
   "cell_type": "markdown",
   "id": "dfe2714c-9c27-4f3d-9d12-04d7d31db15a",
   "metadata": {},
   "source": [
    "Some of the commonly used libraries used by Data Scientists include:\n",
    "1. Pandas\n",
    "2. Matplotlib\n",
    "3. Scikit-Learn\n",
    "4. Vegas\n",
    "5. TensorFlow"
   ]
  },
  {
   "cell_type": "markdown",
   "id": "d4f3ede9-1290-4f0e-af9c-1e0386c320f8",
   "metadata": {},
   "source": [
    "|Data Science Tools|\n",
    "|------------------|\n",
    "|Jupyter Labs|\n",
    "|R studio|\n",
    "|Spyder|"
   ]
  },
  {
   "cell_type": "markdown",
   "id": "088e9e67-6dcf-4d04-a47c-67cbfd199a15",
   "metadata": {},
   "source": [
    "### Below are a few examples of evaluating arithmetic expressions in Python"
   ]
  },
  {
   "cell_type": "code",
   "execution_count": 4,
   "id": "ca5162ab-c4b9-4b88-bc25-388f43c34b3b",
   "metadata": {},
   "outputs": [
    {
     "data": {
      "text/plain": [
       "17"
      ]
     },
     "execution_count": 4,
     "metadata": {},
     "output_type": "execute_result"
    }
   ],
   "source": [
    "#This a simple arithmetic expression to mutiply then add integers.\n",
    "(3*4)+5"
   ]
  },
  {
   "cell_type": "code",
   "execution_count": 10,
   "id": "bbb17663-a49b-4c9c-9cfe-fff57a27bcfe",
   "metadata": {},
   "outputs": [
    {
     "data": {
      "text/plain": [
       "3.3333333333333335"
      ]
     },
     "execution_count": 10,
     "metadata": {},
     "output_type": "execute_result"
    }
   ],
   "source": [
    "#This will convert 200 minutes to hours by diving by 60.\n",
    "200/60 "
   ]
  },
  {
   "cell_type": "markdown",
   "id": "4090a629-a19e-4d40-8282-5f5b9e892da7",
   "metadata": {},
   "source": [
    "## Author\n",
    "Niral Parihar"
   ]
  },
  {
   "cell_type": "code",
   "execution_count": null,
   "id": "0b3f4012-eda8-4c6a-b880-1a8c7cd2a347",
   "metadata": {},
   "outputs": [],
   "source": []
  }
 ],
 "metadata": {
  "kernelspec": {
   "display_name": "Python 3 (ipykernel)",
   "language": "python",
   "name": "python3"
  },
  "language_info": {
   "codemirror_mode": {
    "name": "ipython",
    "version": 3
   },
   "file_extension": ".py",
   "mimetype": "text/x-python",
   "name": "python",
   "nbconvert_exporter": "python",
   "pygments_lexer": "ipython3",
   "version": "3.12.4"
  }
 },
 "nbformat": 4,
 "nbformat_minor": 5
}
